{
 "cells": [
  {
   "cell_type": "code",
   "execution_count": 1,
   "metadata": {},
   "outputs": [],
   "source": [
    "import numpy as np\n",
    "import pandas as pd\n",
    "import matplotlib.pyplot as plt\n",
    "import re"
   ]
  },
  {
   "cell_type": "markdown",
   "metadata": {},
   "source": [
    "## Question 1\n",
    "### Develop code which accepts a square matrix of size 'MxM' and swaps elements from the left diagonal with right diagonal or vice-versa (Use Numpy to create the matrix)."
   ]
  },
  {
   "cell_type": "code",
   "execution_count": 2,
   "metadata": {},
   "outputs": [
    {
     "name": "stdout",
     "output_type": "stream",
     "text": [
      "4\n",
      "Enter element at 0, 0: \n",
      "1\n",
      "Enter element at 0, 1: \n",
      "2\n",
      "Enter element at 0, 2: \n",
      "3\n",
      "Enter element at 0, 3: \n",
      "4\n",
      "Enter element at 1, 0: \n",
      "5\n",
      "Enter element at 1, 1: \n",
      "6\n",
      "Enter element at 1, 2: \n",
      "7\n",
      "Enter element at 1, 3: \n",
      "8\n",
      "Enter element at 2, 0: \n",
      "9\n",
      "Enter element at 2, 1: \n",
      "10\n",
      "Enter element at 2, 2: \n",
      "11\n",
      "Enter element at 2, 3: \n",
      "12\n",
      "Enter element at 3, 0: \n",
      "13\n",
      "Enter element at 3, 1: \n",
      "14\n",
      "Enter element at 3, 2: \n",
      "15\n",
      "Enter element at 3, 3: \n",
      "16\n",
      "[[ 1.  2.  3.  4.]\n",
      " [ 5.  6.  7.  8.]\n",
      " [ 9. 10. 11. 12.]\n",
      " [13. 14. 15. 16.]]\n"
     ]
    }
   ],
   "source": [
    "# print ('Enter size of square matrix: ')\n",
    "M = int(input())\n",
    "N = np.zeros([M, M])\n",
    "\n",
    "for i in range(M):\n",
    "    for j in range(M):\n",
    "        print ('Enter element at ' + str(i) + ', ' + str(j) + ': ')\n",
    "        N[i, j] = input()\n",
    "\n",
    "print (N)"
   ]
  },
  {
   "cell_type": "code",
   "execution_count": 3,
   "metadata": {},
   "outputs": [],
   "source": [
    "def diagonal_swap(array):\n",
    "    newarray = np.zeros([M, M], dtype=N.dtype)\n",
    "    for i in range(M):\n",
    "        for j in range(M):\n",
    "            if (i+j == M-1):\n",
    "                newarray[i, j] = array[i, M-1-j]\n",
    "            elif (i==j):\n",
    "                newarray[i, j] = array[i, M-1-j]\n",
    "            else:\n",
    "                newarray[i, j] = array [i, j]\n",
    "    return newarray"
   ]
  },
  {
   "cell_type": "code",
   "execution_count": 4,
   "metadata": {},
   "outputs": [
    {
     "name": "stdout",
     "output_type": "stream",
     "text": [
      "[[ 4.  2.  3.  1.]\n",
      " [ 5.  7.  6.  8.]\n",
      " [ 9. 11. 10. 12.]\n",
      " [16. 14. 15. 13.]]\n"
     ]
    }
   ],
   "source": [
    "print (diagonal_swap(N))"
   ]
  },
  {
   "cell_type": "code",
   "execution_count": 5,
   "metadata": {},
   "outputs": [
    {
     "data": {
      "text/plain": [
       "array([[ 1,  2,  3,  4],\n",
       "       [ 5,  6,  7,  8],\n",
       "       [ 9, 10, 11, 12],\n",
       "       [13, 14, 15, 16]])"
      ]
     },
     "execution_count": 5,
     "metadata": {},
     "output_type": "execute_result"
    }
   ],
   "source": [
    "#Just to restore the test matrix quickly\n",
    "N = np.arange(1, 17).reshape(4, 4)\n",
    "N"
   ]
  },
  {
   "cell_type": "markdown",
   "metadata": {},
   "source": [
    "## Question 2\n",
    "### Develop code which accepts a text file as input and prints the text in a new file with the first alphabet of each word capitalized. Also, print the total number of white spaces in the new file."
   ]
  },
  {
   "cell_type": "code",
   "execution_count": 6,
   "metadata": {},
   "outputs": [
    {
     "name": "stdout",
     "output_type": "stream",
     "text": [
      "hello, how are you?\n",
      "today, we are testing a numpy program as a part of our assignment.\n",
      "\n",
      "Hello, How Are You?\n",
      "Today, We Are Testing A Numpy Program As A Part Of Our Assignment.\n",
      "\n",
      "Number of spaces: 15\n"
     ]
    }
   ],
   "source": [
    "file = open(\"Assignment1_Q2.txt\", \"r+\")\n",
    "txt = file.read()    #For some reason, working directly with file.read() as a string wasn't updating count\n",
    "print (txt)\n",
    "print()\n",
    "\n",
    "txt2 = txt.title()\n",
    "print (txt2)\n",
    "print()\n",
    "\n",
    "count = 0\n",
    "for i in range(len(txt2)):\n",
    "    if txt2[i]==\" \":\n",
    "        count +=1\n",
    "print (\"Number of spaces:\", count)"
   ]
  },
  {
   "cell_type": "markdown",
   "metadata": {},
   "source": [
    "## Question 3\n",
    "### Develop code using numpy, to generate a random numbers series having total 1000 numbers (only integers in range 1 to 100), and calculate the frequency of the unique items in the series. Subsequently, convert this frequency table into a Histogram."
   ]
  },
  {
   "cell_type": "code",
   "execution_count": 7,
   "metadata": {},
   "outputs": [
    {
     "data": {
      "text/plain": [
       "0      26\n",
       "1      71\n",
       "2      11\n",
       "3      21\n",
       "4      67\n",
       "       ..\n",
       "995    54\n",
       "996    33\n",
       "997    58\n",
       "998    88\n",
       "999     2\n",
       "Length: 1000, dtype: int32"
      ]
     },
     "execution_count": 7,
     "metadata": {},
     "output_type": "execute_result"
    }
   ],
   "source": [
    "s = pd.Series(np.random.randint(1, 101, 1000))\n",
    "#Series of 1000 numbers ranging from 1 (inclusive) to 101 (exclusive)\n",
    "s"
   ]
  },
  {
   "cell_type": "code",
   "execution_count": 40,
   "metadata": {},
   "outputs": [
    {
     "data": {
      "image/png": "[encoded data removed]",
      "text/plain": [
       "<Figure size 720x720 with 1 Axes>"
      ]
     },
     "metadata": {
      "needs_background": "light"
     },
     "output_type": "display_data"
    }
   ],
   "source": [
    "plt.figure(figsize=(10, 10))\n",
    "\n",
    "bins = list(range(0, 101, 10))\n",
    "plt.hist(s, color=\"g\", bins=bins)\n",
    "\n",
    "plt.title('Range-Frequency Histogram', fontdict={'fontname':'Comic Sans MS', 'size':30})\n",
    "plt.xlabel('\\n Number Ranges', fontdict={'size':25})\n",
    "plt.ylabel('Frequencies \\n', fontdict={'size':25})\n",
    "\n",
    "plt.xticks(bins, fontsize=20)\n",
    "plt.yticks(fontsize=20)\n",
    "\n",
    "plt.show()\n",
    "#Not sure why the histogram is coming out like this"
   ]
  },
  {
   "cell_type": "markdown",
   "metadata": {},
   "source": [
    "## Question 4\n",
    "### In above frequency table representing series of random numbers, retain only top 5 most frequent values as they are and replace everything else as ‘Other’, and show them on the bar chart."
   ]
  },
  {
   "cell_type": "code",
   "execution_count": 13,
   "metadata": {},
   "outputs": [
    {
     "data": {
      "text/plain": [
       "0     20\n",
       "1     19\n",
       "2     17\n",
       "3     16\n",
       "4     16\n",
       "      ..\n",
       "95     5\n",
       "96     5\n",
       "97     4\n",
       "98     4\n",
       "99     3\n",
       "Name: Frequency, Length: 100, dtype: int64"
      ]
     },
     "execution_count": 13,
     "metadata": {},
     "output_type": "execute_result"
    }
   ],
   "source": [
    "freq.iloc[:, 1]"
   ]
  },
  {
   "cell_type": "code",
   "execution_count": 14,
   "metadata": {},
   "outputs": [
    {
     "data": {
      "text/plain": [
       "912"
      ]
     },
     "execution_count": 14,
     "metadata": {},
     "output_type": "execute_result"
    }
   ],
   "source": [
    "sum_other = freq.iloc[:, 1].sum() - freq.iloc[0:5, 1].sum()\n",
    "#Did this as freq.iloc[5:-1, 1].sum() was returning 910 by excluding the last row\n",
    "sum_other"
   ]
  },
  {
   "cell_type": "code",
   "execution_count": 15,
   "metadata": {},
   "outputs": [
    {
     "data": {
      "text/html": [
       "<div>\n",
       "<style scoped>\n",
       "    .dataframe tbody tr th:only-of-type {\n",
       "        vertical-align: middle;\n",
       "    }\n",
       "\n",
       "    .dataframe tbody tr th {\n",
       "        vertical-align: top;\n",
       "    }\n",
       "\n",
       "    .dataframe thead th {\n",
       "        text-align: right;\n",
       "    }\n",
       "</style>\n",
       "<table border=\"1\" class=\"dataframe\">\n",
       "  <thead>\n",
       "    <tr style=\"text-align: right;\">\n",
       "      <th></th>\n",
       "      <th>Number</th>\n",
       "      <th>Frequency</th>\n",
       "    </tr>\n",
       "  </thead>\n",
       "  <tbody>\n",
       "    <tr>\n",
       "      <th>0</th>\n",
       "      <td>1</td>\n",
       "      <td>20</td>\n",
       "    </tr>\n",
       "    <tr>\n",
       "      <th>1</th>\n",
       "      <td>18</td>\n",
       "      <td>19</td>\n",
       "    </tr>\n",
       "    <tr>\n",
       "      <th>2</th>\n",
       "      <td>23</td>\n",
       "      <td>17</td>\n",
       "    </tr>\n",
       "    <tr>\n",
       "      <th>3</th>\n",
       "      <td>89</td>\n",
       "      <td>16</td>\n",
       "    </tr>\n",
       "    <tr>\n",
       "      <th>4</th>\n",
       "      <td>80</td>\n",
       "      <td>16</td>\n",
       "    </tr>\n",
       "  </tbody>\n",
       "</table>\n",
       "</div>"
      ],
      "text/plain": [
       "   Number  Frequency\n",
       "0       1         20\n",
       "1      18         19\n",
       "2      23         17\n",
       "3      89         16\n",
       "4      80         16"
      ]
     },
     "execution_count": 15,
     "metadata": {},
     "output_type": "execute_result"
    }
   ],
   "source": [
    "freq2 = pd.DataFrame(freq.iloc[0:5, 0:2])    #Had to convert it from a series to a dataframe\n",
    "freq2"
   ]
  },
  {
   "cell_type": "code",
   "execution_count": 16,
   "metadata": {},
   "outputs": [
    {
     "data": {
      "text/html": [
       "<div>\n",
       "<style scoped>\n",
       "    .dataframe tbody tr th:only-of-type {\n",
       "        vertical-align: middle;\n",
       "    }\n",
       "\n",
       "    .dataframe tbody tr th {\n",
       "        vertical-align: top;\n",
       "    }\n",
       "\n",
       "    .dataframe thead th {\n",
       "        text-align: right;\n",
       "    }\n",
       "</style>\n",
       "<table border=\"1\" class=\"dataframe\">\n",
       "  <thead>\n",
       "    <tr style=\"text-align: right;\">\n",
       "      <th></th>\n",
       "      <th>Number</th>\n",
       "      <th>Frequency</th>\n",
       "    </tr>\n",
       "  </thead>\n",
       "  <tbody>\n",
       "    <tr>\n",
       "      <th>3</th>\n",
       "      <td>89</td>\n",
       "      <td>16.0</td>\n",
       "    </tr>\n",
       "    <tr>\n",
       "      <th>4</th>\n",
       "      <td>80</td>\n",
       "      <td>16.0</td>\n",
       "    </tr>\n",
       "    <tr>\n",
       "      <th>2</th>\n",
       "      <td>23</td>\n",
       "      <td>17.0</td>\n",
       "    </tr>\n",
       "    <tr>\n",
       "      <th>1</th>\n",
       "      <td>18</td>\n",
       "      <td>19.0</td>\n",
       "    </tr>\n",
       "    <tr>\n",
       "      <th>0</th>\n",
       "      <td>1</td>\n",
       "      <td>20.0</td>\n",
       "    </tr>\n",
       "    <tr>\n",
       "      <th>5</th>\n",
       "      <td>Other</td>\n",
       "      <td>912.0</td>\n",
       "    </tr>\n",
       "  </tbody>\n",
       "</table>\n",
       "</div>"
      ],
      "text/plain": [
       "  Number  Frequency\n",
       "3     89       16.0\n",
       "4     80       16.0\n",
       "2     23       17.0\n",
       "1     18       19.0\n",
       "0      1       20.0\n",
       "5  Other      912.0"
      ]
     },
     "execution_count": 16,
     "metadata": {},
     "output_type": "execute_result"
    }
   ],
   "source": [
    "freq2.loc[5, :] = [\"Other\", sum_other]\n",
    "freq2.sort_values(by='Frequency', inplace=True)\n",
    "freq2"
   ]
  },
  {
   "cell_type": "code",
   "execution_count": 30,
   "metadata": {},
   "outputs": [
    {
     "data": {
      "image/png": "[encoded data removed]",
      "text/plain": [
       "<Figure size 500x300 with 1 Axes>"
      ]
     },
     "metadata": {
      "needs_background": "light"
     },
     "output_type": "display_data"
    }
   ],
   "source": [
    "#Now plotting a bar chart of this\n",
    "\n",
    "x = []\n",
    "for i in list(freq2['Number'].values):\n",
    "    x.append(str(i))\n",
    "    \n",
    "y = []\n",
    "for j in list(freq2['Frequency'].values):\n",
    "    y.append(str(j))\n",
    "    \n",
    "#Had to define x and y as empty lists and fill them element-wise, as directly passing freq2['Number'].values and \n",
    "#freq2['Frequency'].values (or varying them slightly) in plt.bar() kept giving a TypeError\n",
    "#Even defining x=list(freq2['Number'].values) and y=list(freq2['Frequency'].values) kept giving a TypeError saying that\n",
    "#the x-type (object) and y-type (float64) are incompatible\n",
    "\n",
    "plt.figure(figsize=(5, 3), dpi=100)\n",
    "plt.bar(x, y, color=\"maroon\", label=\"Top 5 and Others\")\n",
    "\n",
    "plt.title('Number-Frequency Chart for top 5', fontdict={'fontname':'Comic Sans MS', 'size':20})\n",
    "plt.xlabel('Numbers', fontdict={'size':15})\n",
    "plt.ylabel('Frequencies', fontdict={'size':15})\n",
    "\n",
    "plt.xticks(x)\n",
    "plt.yticks(y)    #For some reason, it's messing up the order of the elements in list y\n",
    "plt.show()"
   ]
  },
  {
   "cell_type": "code",
   "execution_count": 18,
   "metadata": {},
   "outputs": [
    {
     "data": {
      "text/plain": [
       "['89.0', '80.0', '23.0', '18.0', '1.0', 'Other']"
      ]
     },
     "execution_count": 18,
     "metadata": {},
     "output_type": "execute_result"
    }
   ],
   "source": [
    "x"
   ]
  },
  {
   "cell_type": "code",
   "execution_count": 19,
   "metadata": {},
   "outputs": [
    {
     "data": {
      "text/plain": [
       "['16.0', '16.0', '17.0', '19.0', '20.0', '912.0']"
      ]
     },
     "execution_count": 19,
     "metadata": {},
     "output_type": "execute_result"
    }
   ],
   "source": [
    "y"
   ]
  },
  {
   "cell_type": "code",
   "execution_count": null,
   "metadata": {},
   "outputs": [],
   "source": []
  }
 ],
 "metadata": {
  "kernelspec": {
   "display_name": "Python 3",
   "language": "python",
   "name": "python3"
  },
  "language_info": {
   "codemirror_mode": {
    "name": "ipython",
    "version": 3
   },
   "file_extension": ".py",
   "mimetype": "text/x-python",
   "name": "python",
   "nbconvert_exporter": "python",
   "pygments_lexer": "ipython3",
   "version": "3.7.6"
  }
 },
 "nbformat": 4,
 "nbformat_minor": 4
}
