{
 "cells": [
  {
   "cell_type": "code",
   "execution_count": 1,
   "metadata": {},
   "outputs": [],
   "source": [
    "import numpy as np\n",
    "from numpy import pi\n",
    "from numpy import newaxis"
   ]
  },
  {
   "cell_type": "code",
   "execution_count": 2,
   "metadata": {},
   "outputs": [],
   "source": [
    "#Defining numpy arrays\n",
    "\n",
    "arr1 = np.array([], dtype=\"int8\")    #Empty array\n",
    "#Changed data type to 8-bit integer here, default was 64-bit float (float64); specifying dtype can help save space\n",
    "\n",
    "arr2 = np.array([1, 4, 9])    #1-D array\n",
    "\n",
    "arr3 = np.array([[1, 2, 3], [1, 4, 9], [1, 8, 27]])    #2-D array\n",
    "\n",
    "arr4 = np.array([ [[1, 2, 3]], [[\"a\", \"b\", \"c\"]] ])    #3-D array \n",
    "\n",
    "arr5 = np.arange(4, 19, 2).reshape (2, 4)    #for i=4; i<19; i+2\n",
    "\n",
    "arr6 = np.linspace(5, 9.5, 10).reshape(5, 2)    #Creates an array starting from 5, ending at 9.5 (included), having 10 elements\n",
    "\n",
    "#Creating them can give a warning when the shape isn't consistent"
   ]
  },
  {
   "cell_type": "code",
   "execution_count": 3,
   "metadata": {},
   "outputs": [
    {
     "name": "stdout",
     "output_type": "stream",
     "text": [
      "[]\n",
      "Shape: (0,) , Dimension: 1 , Data Type: int8\n",
      "Size of items (bytes): 1 , No. of items: 0 , Total size (bytes): 0\n",
      "\n",
      "[1 4 9]\n",
      "Shape: (3,) , Dimension: 1 , Data Type: int32\n",
      "Size of items (bytes): 4 , No. of items: 3 , Total size (bytes): 12\n",
      "\n",
      "[[ 1  2  3]\n",
      " [ 1  4  9]\n",
      " [ 1  8 27]]\n",
      "Shape: (3, 3) , Dimension: 2 , Data Type: int32\n",
      "Size of items (bytes): 4 , No. of items: 9 , Total size (bytes): 36\n",
      "\n",
      "[[['1' '2' '3']]\n",
      "\n",
      " [['a' 'b' 'c']]]\n",
      "Shape: (2, 1, 3) , Dimension: 3 , Data Type: <U11\n",
      "Size of items (bytes): 44 , No. of items: 6 , Total size (bytes): 264\n",
      "\n",
      "[[ 4  6  8 10]\n",
      " [12 14 16 18]]\n",
      "Shape: (2, 4) , Dimension: 2 , Data Type: int32\n",
      "Size of items (bytes): 4 , No. of items: 8 , Total size (bytes): 32\n",
      "\n",
      "[[5.  5.5]\n",
      " [6.  6.5]\n",
      " [7.  7.5]\n",
      " [8.  8.5]\n",
      " [9.  9.5]]\n",
      "Shape: (5, 2) , Dimension: 2 , Data Type: float64\n",
      "Size of items (bytes): 8 , No. of items: 10 , Total size (bytes): 80\n"
     ]
    }
   ],
   "source": [
    "print (arr1)\n",
    "print (\"Shape:\", arr1.shape, \", Dimension:\", arr1.ndim, \", Data Type:\", arr1.dtype)\n",
    "print (\"Size of items (bytes):\", arr1.itemsize, \", No. of items:\", arr1.size, \", Total size (bytes):\", arr1.itemsize*arr1.size)\n",
    "#arr1.itemsize * arr1.size = arr1.nbytes (number of bytes taken up by arr1) \n",
    "print()\n",
    "\n",
    "print (arr2)\n",
    "print (\"Shape:\", arr2.shape, \", Dimension:\", arr2.ndim, \", Data Type:\", arr2.dtype)\n",
    "print (\"Size of items (bytes):\", arr2.itemsize, \", No. of items:\", arr2.size, \", Total size (bytes):\", arr2.itemsize*arr2.size)\n",
    "print()\n",
    "\n",
    "print (arr3)\n",
    "print (\"Shape:\", arr3.shape, \", Dimension:\", arr3.ndim,\", Data Type:\", arr3.dtype)\n",
    "print (\"Size of items (bytes):\", arr3.itemsize, \", No. of items:\", arr3.size, \", Total size (bytes):\", arr3.itemsize*arr3.size)\n",
    "print ()\n",
    "\n",
    "print (arr4)\n",
    "print (\"Shape:\", arr4.shape, \", Dimension:\", arr4.ndim, \", Data Type:\", arr4.dtype)\n",
    "#Gives <U11 (a string dtype of length<=11; as strings can't be turned into numbers, they make everything else strings to match)\n",
    "print (\"Size of items (bytes):\", arr4.itemsize, \", No. of items:\", arr4.size, \", Total size (bytes):\", arr4.itemsize*arr4.size)\n",
    "print ()\n",
    "\n",
    "print (arr5)\n",
    "print (\"Shape:\", arr5.shape, \", Dimension:\", arr5.ndim, \", Data Type:\", arr5.dtype)\n",
    "#Gives <U11 (a string dtype of length<=11; as strings can't be turned into numbers, they make everything else strings to match)\n",
    "print (\"Size of items (bytes):\", arr5.itemsize, \", No. of items:\", arr5.size, \", Total size (bytes):\", arr5.itemsize*arr5.size)\n",
    "print ()\n",
    "\n",
    "print (arr6)\n",
    "print (\"Shape:\", arr6.shape, \", Dimension:\", arr6.ndim, \", Data Type:\", arr6.dtype)\n",
    "#Gives <U11 (a string dtype of length<=11; as strings can't be turned into numbers, they make everything else strings to match)\n",
    "print (\"Size of items (bytes):\", arr6.itemsize, \", No. of items:\", arr6.size, \", Total size (bytes):\", arr6.itemsize*arr6.size)\n",
    "\n",
    "#Shape (2, 1, 3) where 2 = No. of 2-ary brackets, 1 = No. of 3-ary brackets, 3 = No. of elements within innermost brackets"
   ]
  },
  {
   "cell_type": "code",
   "execution_count": 4,
   "metadata": {},
   "outputs": [
    {
     "name": "stdout",
     "output_type": "stream",
     "text": [
      "[[1 2 3]\n",
      " [4 5 6]\n",
      " [7 8 9]] (3, 3)\n",
      "\n",
      "[[5]\n",
      " [6]\n",
      " [7]] (3, 1)\n",
      "\n",
      "[[11 12 13]] (1, 3)\n",
      "\n",
      "[5 6 7] (3,)\n"
     ]
    }
   ],
   "source": [
    "array1 = np.arange(1, 10).reshape([3, 3])\n",
    "print (array1, array1.shape)\n",
    "print()\n",
    "\n",
    "array2 = np.arange(5, 8).reshape([3, 1])\n",
    "print (array2, array2.shape)\n",
    "print()\n",
    "\n",
    "array3 = np.arange(11, 14).reshape([1, 3])    #Reshaping just added an extra set of [] brackets\n",
    "print (array3, array3.shape)\n",
    "print()\n",
    "\n",
    "print (array2.ravel(), array2.ravel().shape)    #Ravel turned it into a 1-D array without changing the original variable"
   ]
  },
  {
   "cell_type": "code",
   "execution_count": null,
   "metadata": {},
   "outputs": [],
   "source": []
  },
  {
   "cell_type": "code",
   "execution_count": 5,
   "metadata": {},
   "outputs": [
    {
     "name": "stdout",
     "output_type": "stream",
     "text": [
      "[12 15 18]\n",
      "[ 6 15 24]\n",
      "45\n"
     ]
    }
   ],
   "source": [
    "#Sum\n",
    "\n",
    "print (np.sum(array1, axis = 0))\n",
    "#1+4+7 2+5+8 3+6+9    (Collapsed 3 rows into 1 by making each column = its total)\n",
    "\n",
    "print (np.sum(array1, axis = 1))\n",
    "#1+2+3 4+5+6 7+8+9    (Collapsed 3 columns into 1 by making each row = its total, but still displayed like a row matrix)\n",
    "\n",
    "print (np.sum(array1))\n",
    "#Sums up all the elements"
   ]
  },
  {
   "cell_type": "code",
   "execution_count": 6,
   "metadata": {},
   "outputs": [
    {
     "name": "stdout",
     "output_type": "stream",
     "text": [
      "[[1 2 3 5]\n",
      " [4 5 6 6]\n",
      " [7 8 9 7]]\n",
      "(3, 4)\n",
      "\n",
      "[[ 1  2  3]\n",
      " [ 4  5  6]\n",
      " [ 7  8  9]\n",
      " [11 12 13]]\n",
      "(4, 3)\n",
      "\n",
      "[2 4 5 3 6 7 9]\n",
      "[2 4 5 3 6 7 9]\n",
      "(7,)\n"
     ]
    }
   ],
   "source": [
    "#Concatenate\n",
    "\n",
    "print (np.concatenate([array1, array2], axis=1))\n",
    "print (np.concatenate([array1, array2], axis=1).shape)\n",
    "#Accepted axis=1 (along columns) as both have same number of rows (added a column having equal number of rows)\n",
    "\n",
    "print ()\n",
    "print (np.concatenate([array1, array3], axis=0))\n",
    "print (np.concatenate([array1, array3], axis=0).shape)\n",
    "#Accepted axis=0 (along rows) as both have same number of columns (added a row having equal number of columns)\n",
    "\n",
    "#With 1-D arrays\n",
    "a1 = np.array([2, 4, 5])\n",
    "a2 = np.array([3, 6, 7, 9])\n",
    "\n",
    "print()\n",
    "print (np.concatenate([a1, a2]))            #Since the arrays are both 1-D, their unequal number of elements doesn't matter.\n",
    "print (np.concatenate([a1, a2], axis=0))    #Specifying the axis doesn't do anything here as there's only 1 axis anyway.\n",
    "print (np.concatenate([a1, a2]).shape)      #Just returns the number of elements for a 1-D array"
   ]
  },
  {
   "cell_type": "code",
   "execution_count": 7,
   "metadata": {},
   "outputs": [
    {
     "name": "stdout",
     "output_type": "stream",
     "text": [
      "[[ 1  2  3]\n",
      " [ 1  4  9]\n",
      " [ 1  8 27]]\n",
      "<memory at 0x00000183F7D30828>\n",
      "\n",
      "[[ 4  5  6]\n",
      " [ 4  7 12]\n",
      " [ 4 11 30]]\n",
      "[[-2 -1  0]\n",
      " [-2  1  6]\n",
      " [-2  5 24]]\n",
      "[[0.33333333 0.66666667 1.        ]\n",
      " [0.33333333 1.33333333 3.        ]\n",
      " [0.33333333 2.66666667 9.        ]]\n",
      "[[ 3  6  9]\n",
      " [ 3 12 27]\n",
      " [ 3 24 81]]\n",
      "\n",
      "[[2.71828183e+00 7.38905610e+00 2.00855369e+01]\n",
      " [2.71828183e+00 5.45981500e+01 8.10308393e+03]\n",
      " [2.71828183e+00 2.98095799e+03 5.32048241e+11]]\n",
      "[[ 0.84147098  0.90929743  0.14112001]\n",
      " [ 0.84147098 -0.7568025   0.41211849]\n",
      " [ 0.84147098  0.98935825  0.95637593]]\n",
      "[[ 0.54030231 -0.41614684 -0.9899925 ]\n",
      " [ 0.54030231 -0.65364362 -0.91113026]\n",
      " [ 0.54030231 -0.14550003 -0.29213881]]\n",
      "[[ 1.55740772 -2.18503986 -0.14254654]\n",
      " [ 1.55740772  1.15782128 -0.45231566]\n",
      " [ 1.55740772 -6.79971146 -3.2737038 ]]\n",
      "[[False  True  True]\n",
      " [False False False]\n",
      " [False False False]]\n"
     ]
    }
   ],
   "source": [
    "#Element-wise operations\n",
    "\n",
    "print (arr3)\n",
    "print (arr3.data)\n",
    "print()\n",
    "\n",
    "print (arr3+3)\n",
    "print (arr3-3)\n",
    "print (arr3/3)\n",
    "print (arr3*3)\n",
    "print()\n",
    "\n",
    "print (np.exp(arr3))\n",
    "print (np.sin(arr3))\n",
    "print (np.cos(arr3))\n",
    "print (np.tan(arr3))\n",
    "print (np.sin(arr3)/np.cos(arr3) == np.tan(arr3))"
   ]
  },
  {
   "cell_type": "code",
   "execution_count": 8,
   "metadata": {},
   "outputs": [
    {
     "name": "stdout",
     "output_type": "stream",
     "text": [
      "[[ 1  2  3]\n",
      " [ 1  4  9]\n",
      " [ 1  8 27]]\n",
      "[[1 2 3]\n",
      " [4 5 6]\n",
      " [7 8 9]]\n",
      "[[  1   4   9]\n",
      " [  4  20  54]\n",
      " [  7  64 243]]\n",
      "[[  6  34 102]\n",
      " [ 15  76 219]\n",
      " [ 24 118 336]]\n",
      "[[ 30  36  42]\n",
      " [ 80  94 108]\n",
      " [222 258 294]]\n"
     ]
    }
   ],
   "source": [
    "#Multiplication of matrices\n",
    "\n",
    "print (arr3)\n",
    "print (array1)\n",
    "print (arr3 * array1)\n",
    "#This only multiplies the respective elements, not how we do in mathematics\n",
    "\n",
    "#In the mathematical one, we need number of columns in first matrix = number of rows in second matrix\n",
    "print (np.matmul(array1, arr3))\n",
    "print (np.matmul(arr3, array1))"
   ]
  },
  {
   "cell_type": "code",
   "execution_count": null,
   "metadata": {},
   "outputs": [],
   "source": []
  },
  {
   "cell_type": "code",
   "execution_count": 9,
   "metadata": {},
   "outputs": [
    {
     "name": "stdout",
     "output_type": "stream",
     "text": [
      "Initial:\n",
      "[[1 2 3]\n",
      " [4 5 6]\n",
      " [7 8 9]]\n",
      "\n",
      "Final:\n",
      "[[11  6  4]\n",
      " [ 1  6  5]\n",
      " [ 7  8 10]]\n",
      "\n",
      "[ 7  8 10]\n",
      "[ 7  8 10]\n",
      "[ 7  8 10]\n",
      "\n",
      "[ 4  5 10]\n",
      "[ 4  5 10]\n",
      "\n",
      "8\n",
      "1\n"
     ]
    }
   ],
   "source": [
    "#Accessing/Changing specific elements/rows/columns\n",
    "array0 = np.arange(1, 10).reshape([3, 3])\n",
    "print (\"Initial:\")\n",
    "print (array0)\n",
    "print()\n",
    "\n",
    "array0[1] = [1, 6, 0]        #Changing specific row (Doesn't need the columns = : to be specified)\n",
    "array0[0, :] = 6             #Makes all the elements of that row/column = value passed\n",
    "array0[:, 2] = [4, 5, 10]    #Changing specific column (With columns, we need the rows to be specified)\n",
    "array0[0, 0] = 11            #Changing specific element\n",
    "print (\"Final:\")\n",
    "print (array0)\n",
    "print()\n",
    "\n",
    "print (array0[2])            #Accessing specific row\n",
    "print (array0[2, :])         #Another way of accessing specific row\n",
    "print (array0[2, 0:3:1])     #Yet another way of accessing specific row\n",
    "#With numpy arrays, too, the indices can be negative\n",
    "\n",
    "print()\n",
    "print (array0[:, 2])         #Accessing specific column\n",
    "print (array0[0:3:1, 2])     #Yet another way of accessing specific row\n",
    "#It means for column 3 (index 2), start at row index 0 till row index 2 (stop before 3) and move at a step size of 1\n",
    "\n",
    "print()\n",
    "print (array0[2, 1])    #Accessing specific element\n",
    "print (array0[1, 0])\n",
    "#Needless to say, this is all possible (but a little more complex) with arrays having more dimensions."
   ]
  },
  {
   "cell_type": "code",
   "execution_count": 10,
   "metadata": {},
   "outputs": [
    {
     "name": "stdout",
     "output_type": "stream",
     "text": [
      "[0. 0. 0. 0. 0.]\n",
      "\n",
      "[[1. 1. 1. 1. 1.]\n",
      " [1. 1. 1. 1. 1.]\n",
      " [1. 1. 1. 1. 1.]\n",
      " [1. 1. 1. 1. 1.]]\n",
      "\n",
      "[[['Hi' 'Hi' 'Hi' 'Hi']\n",
      "  ['Hi' 'Hi' 'Hi' 'Hi']]\n",
      "\n",
      " [['Hi' 'Hi' 'Hi' 'Hi']\n",
      "  ['Hi' 'Hi' 'Hi' 'Hi']]\n",
      "\n",
      " [['Hi' 'Hi' 'Hi' 'Hi']\n",
      "  ['Hi' 'Hi' 'Hi' 'Hi']]]\n",
      "\n",
      "[['ITT' 'ITT' 'ITT']\n",
      " ['ITT' 'ITT' 'ITT']\n",
      " ['ITT' 'ITT' 'ITT']]\n",
      "\n",
      "[[[0.9861397 ]\n",
      "  [0.24121805]\n",
      "  [0.60634509]\n",
      "  [0.03606827]]\n",
      "\n",
      " [[0.92848489]\n",
      "  [0.53398675]\n",
      "  [0.80366739]\n",
      "  [0.24249688]]\n",
      "\n",
      " [[0.31297321]\n",
      "  [0.41825154]\n",
      "  [0.80733575]\n",
      "  [0.02500379]]]\n",
      "0.7380582256531919\n",
      "\n",
      "[[0.51120667 0.61265229 0.02580368]\n",
      " [0.82607976 0.48947814 0.01639084]\n",
      " [0.66246343 0.59696417 0.21902459]]\n",
      "\n",
      "[[7 9 8 8]\n",
      " [7 3 8 9]\n",
      " [1 9 0 3]\n",
      " [0 5 5 5]]\n",
      "-10\n",
      "Generator(PCG64)\n",
      "[[0.000e+000 0.000e+000]\n",
      " [0.000e+000 0.000e+000]\n",
      " [0.000e+000 6.087e-321]\n",
      " [1.000e+000 8.000e+000]]\n",
      "[[16843009]\n",
      " [16843009]\n",
      " [16843009]]\n",
      "\n",
      "[]\n",
      "[[1.]]\n",
      "[[1. 0.]\n",
      " [0. 1.]]\n",
      "\n",
      "[[11 12 13]\n",
      " [11 12 13]\n",
      " [11 12 13]\n",
      " [11 12 13]\n",
      " [11 12 13]]\n",
      "[[11 11 11 11 12 12 12 12 13 13 13 13]]\n"
     ]
    }
   ],
   "source": [
    "#Initialising some special matrices\n",
    "\n",
    "s1 = np.zeros(5)    #Initialises all elements as 0.0 or 0. (float 64 unless specified otherwise)\n",
    "print (s1)\n",
    "print ()\n",
    "\n",
    "s2 = np.ones((4, 5))    #Initialises all elements as 1.0 or 1. (float 64 unless specified otherwise)\n",
    "print (s2)\n",
    "print()\n",
    "\n",
    "s3 = np.full((3, 2, 4), \"Hi\")    #Initialises all elements as the value passed \n",
    "print (s3)\n",
    "print()\n",
    "\n",
    "s4 = np.full_like(array0, \"ITT\", dtype=\"U3\")    \n",
    "#Initialises all elements as value passed (data type must be the same/specified differently), and size as that of array passed\n",
    "print (s4)\n",
    "print()\n",
    "\n",
    "s5 = np.random.rand(3, 4, 1)    #Initialises elements as random decimal numbers between 0 and 1 (can change after every run)\n",
    "print (s5)\n",
    "s6 = np.random.rand()           #Passing no size arguments will return a random decimal number\n",
    "print (s6)\n",
    "print()\n",
    "\n",
    "s7 = np.random.random_sample(array0.shape)    #Initialises elements as random float numbers (0 to 1), takes the specified shape\n",
    "#Accepts only 1 argument, so it can either be an integer or a function (returning an integer)\n",
    "print (s7)\n",
    "print()\n",
    "\n",
    "s8 = np.random.randint(0, 10, size=(4, 4))    #size could also have been specified as the shape of another array\n",
    "#Initialises elements as random integers in the specified range (can change after every run)\n",
    "print (s8)\n",
    "s9 = np.random.randint(-10, -8)           \n",
    "#Must pass at least 2 arguments (lower and upper limits (upper excluded)), size not specified implies one value\n",
    "print (s9)\n",
    "s15 = np.random.default_rng((6, 2))    #Can have 1 or no argument, should be positional (can be (3, 4, 5) etc.)\n",
    "print (s15)\n",
    "s16 = np.empty((4, 2))    #Creates an array whose initial content is random\n",
    "print (s16)\n",
    "s17 = np.empty_like(array2)    #Works like full_like and the data type can be specified here too\n",
    "print (s17)\n",
    "print()\n",
    "\n",
    "s10 = np.identity(0)    #Creates an identity matrix (a square matrix with diagonal elements=1, rest 0)\n",
    "s11 = np.identity(1)\n",
    "s12 = np.identity(2)\n",
    "print (s10)\n",
    "print (s11)\n",
    "print (s12)\n",
    "print()\n",
    "\n",
    "s13 = np.repeat (array3, 5, axis=0)    #Creates a matrix made by repeating the passed matrix the specified number of times\n",
    "s14 = np.repeat (array3, 4, axis=1)    #axis = 1 by default here\n",
    "print (s13)\n",
    "print (s14)\n",
    "\n",
    "#Typically, matrices choose int32, float64 or U2 as the default data types"
   ]
  },
  {
   "cell_type": "code",
   "execution_count": null,
   "metadata": {},
   "outputs": [],
   "source": []
  },
  {
   "cell_type": "code",
   "execution_count": 11,
   "metadata": {},
   "outputs": [
    {
     "name": "stdout",
     "output_type": "stream",
     "text": [
      "12.0\n",
      "0.0\n",
      "0.0\n",
      "1.0\n"
     ]
    }
   ],
   "source": [
    "#Determinant of a matrix (returned as a float64 type value by default)\n",
    "print (np.linalg.det(arr3))\n",
    "print (np.linalg.det(array1))\n",
    "print (np.linalg.det(np.zeros((2, 2))))    #Bound to be 0\n",
    "print (np.linalg.det(np.identity(5)))      #Bound to be 1"
   ]
  },
  {
   "cell_type": "code",
   "execution_count": 12,
   "metadata": {},
   "outputs": [
    {
     "name": "stdout",
     "output_type": "stream",
     "text": [
      "[[ 3.         -2.5         0.5       ]\n",
      " [-1.5         2.         -0.5       ]\n",
      " [ 0.33333333 -0.5         0.16666667]]\n",
      "[[1. 0. 0. 0. 0.]\n",
      " [0. 1. 0. 0. 0.]\n",
      " [0. 0. 1. 0. 0.]\n",
      " [0. 0. 0. 1. 0.]\n",
      " [0. 0. 0. 0. 1.]]\n",
      "\n",
      "[[ 1  1  1]\n",
      " [ 2  4  8]\n",
      " [ 3  9 27]]\n",
      "[[ 1  1  1]\n",
      " [ 2  4  8]\n",
      " [ 3  9 27]]\n",
      "[[1. 0. 0. 0. 0.]\n",
      " [0. 1. 0. 0. 0.]\n",
      " [0. 0. 1. 0. 0.]\n",
      " [0. 0. 0. 1. 0.]\n",
      " [0. 0. 0. 0. 1.]]\n",
      "[[1. 0. 0. 0. 0.]\n",
      " [0. 1. 0. 0. 0.]\n",
      " [0. 0. 1. 0. 0.]\n",
      " [0. 0. 0. 1. 0.]\n",
      " [0. 0. 0. 0. 1.]]\n",
      "\n",
      "[[ 1.  2.  3.]\n",
      " [ 1.  4.  9.]\n",
      " [ 1.  8. 27.]]\n",
      "3 3\n"
     ]
    }
   ],
   "source": [
    "#Other functions\n",
    "print (np.linalg.inv(arr3))\n",
    "print (np.linalg.inv(np.identity(5)))          #Identity matrices are inverses of themselves\n",
    "print ()\n",
    "\n",
    "print (np.matrix.transpose(arr3))\n",
    "print (arr3.T)                                 #Another way to get the transpose\n",
    "print (np.matrix.transpose(np.identity(5)))    #Identity matrices are transposes of themselves\n",
    "print (np.identity(5).T)\n",
    "print()\n",
    "\n",
    "print (np.floor(arr3))    #Rounds off to the previous (smaller) integer (like -1.2 to -2 and 0.2 to 0)\n",
    "nr, nc = array1.shape     #A way to get the number of rows and the number of columns in an array\n",
    "print (nr, nc)"
   ]
  },
  {
   "cell_type": "code",
   "execution_count": 13,
   "metadata": {},
   "outputs": [
    {
     "name": "stdout",
     "output_type": "stream",
     "text": [
      "[1 4 9]\n",
      "[ 1  2  3  1  4  9  1  8 27]\n",
      "\n",
      "[ 1  4  9  1  2  3  1  4  9  1  8 27]\n",
      "[ 1  2  3  1  4  9  1  8 27  1  4  9]\n",
      "\n",
      "[[ 1  4  9]\n",
      " [ 1  2  3]\n",
      " [ 1  4  9]\n",
      " [ 1  8 27]]\n",
      "[[ 1  2  3]\n",
      " [ 1  4  9]\n",
      " [ 1  8 27]\n",
      " [ 1  4  9]]\n"
     ]
    }
   ],
   "source": [
    "#Stacking arrays\n",
    "\n",
    "print (arr2)\n",
    "arr7 = arr3.ravel()\n",
    "print (arr7)\n",
    "print()\n",
    "\n",
    "print (np.hstack((arr2, arr7)))    #vstack wouldn't have worked for these arrays since their numbers of columns are different\n",
    "print (np.hstack((arr7, arr2)))\n",
    "print()\n",
    "\n",
    "arr7 = arr7.reshape(3, 3)\n",
    "print (np.vstack((arr2, arr7)))\n",
    "print (np.vstack((arr7, arr2)))"
   ]
  },
  {
   "cell_type": "code",
   "execution_count": 14,
   "metadata": {},
   "outputs": [
    {
     "name": "stdout",
     "output_type": "stream",
     "text": [
      "[[ 1  2  3]\n",
      " [ 1  4  9]\n",
      " [ 1  8 27]]\n",
      "[array([[1],\n",
      "       [1],\n",
      "       [1]]), array([[2],\n",
      "       [4],\n",
      "       [8]]), array([[ 3],\n",
      "       [ 9],\n",
      "       [27]])]\n",
      "[array([[1, 2, 3]]), array([[1, 4, 9]]), array([[ 1,  8, 27]])]\n"
     ]
    }
   ],
   "source": [
    "#Splitting an array\n",
    "\n",
    "print (arr7)\n",
    "print (np.hsplit(arr7, 3))    #Creates equally-sized vertical matrices by separating the columns\n",
    "print (np.vsplit(arr7, 3))    #Creates equally-sized horizontal matrices by separating the rows"
   ]
  },
  {
   "cell_type": "code",
   "execution_count": null,
   "metadata": {},
   "outputs": [],
   "source": []
  },
  {
   "cell_type": "code",
   "execution_count": 15,
   "metadata": {},
   "outputs": [
    {
     "name": "stdout",
     "output_type": "stream",
     "text": [
      "[[6 5 4]\n",
      " [7 8 9]]\n",
      "\n",
      "4\n",
      "[6 5 4]\n",
      "[4 7]\n",
      "\n",
      "9\n",
      "[7 8 9]\n",
      "[6 9]\n",
      "\n",
      "6.5\n",
      "6.5\n",
      "[6.5 6.5 6.5]\n",
      "[5. 8.]\n",
      "\n",
      "6.5\n",
      "[6.5 6.5 6.5]\n",
      "[5. 8.]\n",
      "\n",
      "1.707825127659933\n",
      "[0.5 1.5 2.5]\n",
      "[0.81649658 0.81649658]\n",
      "\n",
      "2.9166666666666665\n",
      "[0.25 2.25 6.25]\n",
      "[0.66666667 0.66666667]\n",
      "\n"
     ]
    }
   ],
   "source": [
    "#Statistics\n",
    "\n",
    "ar1= np.array([[6, 5, 4], [7, 8, 9]])\n",
    "print (ar1)\n",
    "print()\n",
    "\n",
    "print (np.min(ar1))            #Smallest element\n",
    "print (np.min(ar1, axis=0))    #Smallest elements from each row\n",
    "print (np.min(ar1, axis=1))    #Smallest elements from each column\n",
    "print()\n",
    "\n",
    "print (np.max(ar1))            #Largest element\n",
    "print (np.max(ar1, axis=0))    #Largest elements from each row\n",
    "print (np.max(ar1, axis=1))    #Largest elements from each column\n",
    "print()\n",
    "\n",
    "print (np.mean(ar1))             #Mean across the whole matrix\n",
    "print (np.average(ar1))          #Mean and average give the same result\n",
    "print (np.mean(ar1, axis =0))    #Mean across columns\n",
    "print (np.mean(ar1, axis =1))    #Mean across rows\n",
    "print ()\n",
    "\n",
    "print (np.median(ar1))             #Median across the whole matrix\n",
    "print (np.median(ar1, axis =0))    #Median across columns\n",
    "print (np.median(ar1, axis =1))    #Mean across rows\n",
    "print ()                           #Median was the same as mean in this case\n",
    "\n",
    "print (np.std(ar1))             #Standard Deviation across the whole matrix\n",
    "print (np.std(ar1, axis =0))    #Standard Deviation across columns\n",
    "print (np.std(ar1, axis =1))    #Standard Deviation across rows\n",
    "print () \n",
    "\n",
    "print (np.var(ar1))             #Variance across the whole matrix\n",
    "print (np.var(ar1, axis =0))    #Variance across columns\n",
    "print (np.var(ar1, axis =1))    #Variance across rows\n",
    "print ()                        #Variance = (Standard Deviation)^2"
   ]
  },
  {
   "cell_type": "code",
   "execution_count": 16,
   "metadata": {},
   "outputs": [
    {
     "name": "stdout",
     "output_type": "stream",
     "text": [
      "[[ 4  5  2]\n",
      " [ 7  6  9]\n",
      " [ 3  1  8]\n",
      " [ 0 12 19]] (4, 3)\n",
      "\n",
      "[[False False False]\n",
      " [ True False  True]\n",
      " [False False  True]\n",
      " [False  True  True]]\n",
      "[ 7  9  8 12 19]\n",
      "[4 5 2 6 3 1 0]\n",
      "True\n",
      "False\n",
      "\n",
      "[[ 0 12 19]\n",
      " [ 3  1  8]]\n",
      "\n",
      "[[ 4  5  2  7  6  9]\n",
      " [ 3  1  8  0 12 19]] (2, 6)\n"
     ]
    }
   ],
   "source": [
    "#Boolean Indexing\n",
    "ar2 = np.array([[4, 5, 2], [7, 6, 9], [3, 1, 8], [0, 12, 19]])\n",
    "print (ar2, ar2.shape)\n",
    "print()\n",
    "\n",
    "ar3 = ar2>6\n",
    "print (ar3)\n",
    "print (ar2[ar3])       #Returns elements that return True in ar3\n",
    "print (ar2[ar2<=6])    #Will return the elements of ar2 other than the ones received by the above command\n",
    "print (ar3.any())      #If there are any true values in ar3\n",
    "print (ar3.all())      #If all values in ar3 are True\n",
    "print()\n",
    "\n",
    "#Multiple Indexing (explains why the above works)\n",
    "print (ar2[[3, 2]])    #Fetches the specified indices (which point to rows in this case)\n",
    "#print (ar2[1[1], 0[0]]) to fetch the specified elements didn't work\n",
    "print()\n",
    "\n",
    "#Automatic reshaping (done by passing the unknown value as -1)\n",
    "ar4 = ar2.reshape(2, -1)\n",
    "print (ar4, ar4.shape)"
   ]
  },
  {
   "cell_type": "code",
   "execution_count": 17,
   "metadata": {},
   "outputs": [
    {
     "name": "stdout",
     "output_type": "stream",
     "text": [
      "[[  5.   6.   2.  33.]\n",
      " [  8.  88.   6.  76.]\n",
      " [ 23.  32.  55.  99.]\n",
      " [ 86. 123. 324. 511.]\n",
      " [777. 625. 318. 117.]]\n",
      "[[  5   6   2  33]\n",
      " [  8  88   6  76]\n",
      " [ 23  32  55  99]\n",
      " [ 86 123  68  -1]\n",
      " [  9 113  62 117]]\n",
      "\n",
      "[[False False False  True]\n",
      " [False False False False]\n",
      " [False  True  True False]\n",
      " [False False  True False]\n",
      " [False False  True False]]\n",
      "[[ True  True  True False]\n",
      " [ True  True  True  True]\n",
      " [ True False False  True]\n",
      " [ True  True False  True]\n",
      " [ True  True False  True]]\n",
      "[[ True  True  True False]\n",
      " [ True  True  True  True]\n",
      " [ True False False  True]\n",
      " [ True  True False  True]\n",
      " [ True  True False  True]]\n"
     ]
    }
   ],
   "source": [
    "#Reading a file from the system\n",
    "\n",
    "file1 = np.genfromtxt(\"Numpy_Test1.txt\", delimiter=\",\")    #Reads the txt file and recognises the specified delimiter\n",
    "print (file1)\n",
    "file2 = file1.astype(\"int8\")    #Changes the data type\n",
    "print (file2)\n",
    "print()\n",
    "\n",
    "print ((((file2>30) & (file2<70))))     #Takes & instead of and\n",
    "print (~(((file2>30) & (file2<70))))    #Takes ~ instead of not (this matrix will be the opposite of the one above)\n",
    "print ((((file2<=30) | (file2>=70))))   #Takes | instead of or (this matrix will be same as above and opposite of the first one)"
   ]
  },
  {
   "cell_type": "code",
   "execution_count": 18,
   "metadata": {},
   "outputs": [
    {
     "name": "stdout",
     "output_type": "stream",
     "text": [
      "[[6 5 4]\n",
      " [7 8 9]]\n",
      "Average (Mean): 6.5\n",
      "Mean (Average): 6.5\n",
      "Actual value: 6.5\n"
     ]
    }
   ],
   "source": [
    "#Self-defined function for mean/average\n",
    "print (ar1)\n",
    "\n",
    "def avg1(array):\n",
    "    return np.sum(array)/array.size\n",
    "\n",
    "def avg2(array):\n",
    "    a = 0\n",
    "    nr, nc = array.shape\n",
    "    for i in range (nr):\n",
    "        for j in range (nc):\n",
    "            a += array[i, j]\n",
    "    return a/(nr*nc)\n",
    "\n",
    "print (\"Average (Mean):\", avg1(ar1))\n",
    "print (\"Mean (Average):\", avg2(ar1))\n",
    "print (\"Actual value:\", np.mean(ar1))"
   ]
  },
  {
   "cell_type": "code",
   "execution_count": 19,
   "metadata": {},
   "outputs": [
    {
     "name": "stdout",
     "output_type": "stream",
     "text": [
      "[[ 0  1  2  3]\n",
      " [ 4  5  6  7]\n",
      " [ 8  9 10 11]]\n",
      "Median: 5.5\n",
      "Actual value: 5.5\n"
     ]
    }
   ],
   "source": [
    "#Self-defined function for median\n",
    "\n",
    "def med(array):\n",
    "    a = np.sort(array)\n",
    "    nr, nc = array.shape    #Say 2, 3\n",
    "    n = nr*nc\n",
    "    if (nr%2==1 and nc%2==1):    #Odd number of elements\n",
    "        return (a[int(nr/2), int((nc)/2)])\n",
    "    elif (nr%2==1 and nc%2==0):    #Even number of elements (odd rows, even columns)\n",
    "        return (a[int(nr/2), int(nc/2)] + a[int(nr/2), int((nc/2)-1)])/2\n",
    "    elif (nr%2==0 and nc%2==1):    #Even number of elements (even rows, odd columns)\n",
    "        return (a[int((nr-1)/2), nc-1] + a[int(nr/2), 0])/2\n",
    "    elif (nr%2==0 and nc%2==0):    #Even number of elements (even rows, even columns)\n",
    "        return (a[int(nr/2), int(nc/2)])\n",
    "\n",
    "t1 = np.arange(0, 12).reshape(3, 4)\n",
    "print (t1)\n",
    "print (\"Median:\", med(t1))\n",
    "print (\"Actual value:\", np.median(t1))"
   ]
  },
  {
   "cell_type": "code",
   "execution_count": 20,
   "metadata": {},
   "outputs": [
    {
     "name": "stdout",
     "output_type": "stream",
     "text": [
      "[[ 0  1  2  3]\n",
      " [ 4  5  6  7]\n",
      " [ 8  9 10 11]]\n",
      "Variance: 11.916666666666666\n",
      "Actual value: 11.916666666666666\n"
     ]
    }
   ],
   "source": [
    "#Self-defined function for variance\n",
    "\n",
    "def variance(array):\n",
    "    nr, nc = array.shape    #Say 2, 3\n",
    "    n = nr*nc\n",
    "    V = 0\n",
    "    for i in range (nr):\n",
    "        for j in range (nc):\n",
    "            V += (array[i, j] - avg2(array))**2\n",
    "    return V/n\n",
    "    \n",
    "t1 = np.arange(0, 12).reshape(3, 4)\n",
    "print (t1)\n",
    "print (\"Variance:\", variance(t1))\n",
    "print (\"Actual value:\", np.var(t1))"
   ]
  },
  {
   "cell_type": "code",
   "execution_count": 21,
   "metadata": {},
   "outputs": [
    {
     "name": "stdout",
     "output_type": "stream",
     "text": [
      "[[ 0  1  2  3]\n",
      " [ 4  5  6  7]\n",
      " [ 8  9 10 11]]\n",
      "Standard Deviation: 3.452052529534663\n",
      "Actual value: 3.452052529534663\n"
     ]
    }
   ],
   "source": [
    "#Self-defined function for standard deviation\n",
    "\n",
    "def stddev(array):\n",
    "    return (variance(array))**0.5\n",
    "\n",
    "t1 = np.arange(0, 12).reshape(3, 4)\n",
    "print (t1)\n",
    "print (\"Standard Deviation:\", stddev(t1))\n",
    "print (\"Actual value:\", np.std(t1))"
   ]
  },
  {
   "cell_type": "code",
   "execution_count": 22,
   "metadata": {},
   "outputs": [
    {
     "data": {
      "text/plain": [
       "array([[ 4,  5],\n",
       "       [24, 25],\n",
       "       [29, 30]])"
      ]
     },
     "execution_count": 22,
     "metadata": {},
     "output_type": "execute_result"
    }
   ],
   "source": [
    "#Different ways of accessing elements\n",
    "q1 = np.arange(1, 31).reshape(6, 5)\n",
    "q1\n",
    "q1[2:4, 0:2]\n",
    "q1[[0, 1, 2, 3], [1, 2, 3, 4]]\n",
    "q1 [[0, 4, 5], 3:]    #Or 3:5"
   ]
  },
  {
   "cell_type": "code",
   "execution_count": null,
   "metadata": {},
   "outputs": [],
   "source": []
  },
  {
   "cell_type": "markdown",
   "metadata": {},
   "source": [
    "##Yet to explore:\n",
    "#.random()\n",
    "#.column_stack(), .row_stack()\n",
    "#.diff()\n",
    "#.r_[], .c_[]\n",
    "#.view(), .multiply()\n",
    "#.ix_()\n",
    "#.savetxt()\n",
    "#np.genfromtxt(arguments), np.loadtxt()\n",
    "#bytearray(), ndarray()\n",
    "#.newbyteorder(), .byteswap(), .tobytes()\n",
    "#fromfile(), .tofile() \n",
    "#.flags.owndata\n",
    "#.base\n",
    "#slice()\n",
    "#recfunctions\n",
    "#Ellipsis\n",
    "#numpy.lib.mixins\n",
    "#Other NumPy objects"
   ]
  },
  {
   "cell_type": "code",
   "execution_count": null,
   "metadata": {},
   "outputs": [],
   "source": []
  },
  {
   "cell_type": "code",
   "execution_count": null,
   "metadata": {},
   "outputs": [],
   "source": []
  }
 ],
 "metadata": {
  "kernelspec": {
   "display_name": "Python 3",
   "language": "python",
   "name": "python3"
  },
  "language_info": {
   "codemirror_mode": {
    "name": "ipython",
    "version": 3
   },
   "file_extension": ".py",
   "mimetype": "text/x-python",
   "name": "python",
   "nbconvert_exporter": "python",
   "pygments_lexer": "ipython3",
   "version": "3.7.6"
  }
 },
 "nbformat": 4,
 "nbformat_minor": 4
}
